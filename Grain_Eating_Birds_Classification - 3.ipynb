{
  "nbformat": 4,
  "nbformat_minor": 0,
  "metadata": {
    "colab": {
      "name": "Grain_Eating_Birds_Classification.ipynb",
      "provenance": [],
      "collapsed_sections": [],
      "include_colab_link": true
    },
    "kernelspec": {
      "display_name": "Python 3",
      "name": "python3"
    },
    "language_info": {
      "name": "python"
    }
  },
  "cells": [
    {
      "cell_type": "markdown",
      "metadata": {
        "id": "view-in-github",
        "colab_type": "text"
      },
      "source": [
        "<a href=\"https://colab.research.google.com/github/SBilaal/Cards/blob/master/Grain_Eating_Birds_Classification%20-%203.ipynb\" target=\"_parent\"><img src=\"https://colab.research.google.com/assets/colab-badge.svg\" alt=\"Open In Colab\"/></a>"
      ]
    },
    {
      "cell_type": "code",
      "metadata": {
        "id": "FuHAcjvCiWX5"
      },
      "source": [
        "import numpy as np\n",
        "import tensorflow as tf\n",
        "from tensorflow import keras\n",
        "from tensorflow.keras.models import Sequential, Model\n",
        "from tensorflow.keras.layers import Activation, Dense, BatchNormalization, Conv2D, MaxPool2D, Flatten, GlobalAveragePooling2D\n",
        "from tensorflow.keras.optimizers import Adam\n",
        "from tensorflow.keras.metrics import categorical_crossentropy\n",
        "from tensorflow.keras.preprocessing.image import ImageDataGenerator\n",
        "import matplotlib.pyplot as plt\n",
        "from sklearn.metrics import confusion_matrix\n",
        "import itertools\n",
        "import os"
      ],
      "execution_count": 12,
      "outputs": []
    },
    {
      "cell_type": "code",
      "metadata": {
        "colab": {
          "base_uri": "https://localhost:8080/"
        },
        "id": "0vmCOa3L6l8b",
        "outputId": "00764f1c-5c52-4876-8e6e-0986448f424d"
      },
      "source": [
        "from google.colab import drive\n",
        "drive.mount('/content/gdrive')"
      ],
      "execution_count": 2,
      "outputs": [
        {
          "output_type": "stream",
          "text": [
            "Mounted at /content/gdrive\n"
          ],
          "name": "stdout"
        }
      ]
    },
    {
      "cell_type": "code",
      "metadata": {
        "colab": {
          "base_uri": "https://localhost:8080/"
        },
        "id": "yOSxGDeYj764",
        "outputId": "1e4acf87-72f1-46bd-8fb6-6079dbc9ace9"
      },
      "source": [
        "data = '/content/gdrive/MyDrive/Birds_Test_Dataset'\n",
        "train_path = f'{data}/train'\n",
        "valid_path = f'{data}/valid'\n",
        "test_path = f'{data}/test'\n",
        "classes = ['AFRICAN FIREFINCH', 'CROWNED PIGEON', 'GREEN JAY', 'MOURNING DOVE', 'NICOBAR PIGEON', 'PURPLE FINCH', 'RED BROWED FINCH', 'ROCK DOVE', 'STRAWBERRY FINCH', 'YELLOW HEADED BLACKBIRD']\n",
        "print(train_path)\n",
        "\n",
        "os.path.isdir(train_path)\n",
        "os.path.isdir(test_path)\n",
        "os.path.isdir(valid_path)"
      ],
      "execution_count": 3,
      "outputs": [
        {
          "output_type": "stream",
          "text": [
            "/content/gdrive/MyDrive/Birds_Test_Dataset/train\n"
          ],
          "name": "stdout"
        },
        {
          "output_type": "execute_result",
          "data": {
            "text/plain": [
              "True"
            ]
          },
          "metadata": {},
          "execution_count": 3
        }
      ]
    },
    {
      "cell_type": "code",
      "metadata": {
        "colab": {
          "base_uri": "https://localhost:8080/"
        },
        "id": "0-SXVDFjs-UU",
        "outputId": "90f24d38-1b63-4e87-87a6-620292b20a80"
      },
      "source": [
        "train_batches = ImageDataGenerator(preprocessing_function=tf.keras.applications.xception.preprocess_input).flow_from_directory(directory=train_path, target_size=(299,299), classes=classes, batch_size=8)\n",
        "valid_batches = ImageDataGenerator(preprocessing_function=tf.keras.applications.xception.preprocess_input).flow_from_directory(directory=valid_path, target_size=(299,299), classes=classes, batch_size=8)\n",
        "test_batches = ImageDataGenerator(preprocessing_function=tf.keras.applications.xception.preprocess_input).flow_from_directory(directory=test_path, target_size=(299,299), classes=classes, batch_size=8, shuffle=False)"
      ],
      "execution_count": 4,
      "outputs": [
        {
          "output_type": "stream",
          "text": [
            "Found 950 images belonging to 10 classes.\n",
            "Found 230 images belonging to 10 classes.\n",
            "Found 50 images belonging to 10 classes.\n"
          ],
          "name": "stdout"
        }
      ]
    },
    {
      "cell_type": "code",
      "metadata": {
        "id": "0UR2tBSzbNFH"
      },
      "source": [
        "imgs, labels = next(train_batches)"
      ],
      "execution_count": null,
      "outputs": []
    },
    {
      "cell_type": "code",
      "metadata": {
        "id": "8TbWQb8ZYT5Z"
      },
      "source": [
        "def plotImages(images_arr):\n",
        "  fig, axes = plt.subplots(1, 10, figsize=(20,20))\n",
        "  axes = axes.flatten()\n",
        "  for img, ax in zip(images_arr, axes):\n",
        "    ax.imshow(img)\n",
        "    ax.axis('off')\n",
        "  plt.tight_layout()\n",
        "  plt.show()"
      ],
      "execution_count": 29,
      "outputs": []
    },
    {
      "cell_type": "code",
      "metadata": {
        "id": "Y-FK98Fh82CI"
      },
      "source": [
        "plotImages(imgs)\n",
        "print(labels)"
      ],
      "execution_count": null,
      "outputs": []
    },
    {
      "cell_type": "code",
      "metadata": {
        "colab": {
          "base_uri": "https://localhost:8080/"
        },
        "id": "m0aG5p_CsBzY",
        "outputId": "7d48fe35-784d-44b4-ef37-be114822129b"
      },
      "source": [
        "xception = tf.keras.applications.xception.Xception(include_top=False)"
      ],
      "execution_count": 5,
      "outputs": [
        {
          "output_type": "stream",
          "text": [
            "Downloading data from https://storage.googleapis.com/tensorflow/keras-applications/xception/xception_weights_tf_dim_ordering_tf_kernels_notop.h5\n",
            "83689472/83683744 [==============================] - 1s 0us/step\n",
            "83697664/83683744 [==============================] - 1s 0us/step\n"
          ],
          "name": "stdout"
        }
      ]
    },
    {
      "cell_type": "code",
      "metadata": {
        "id": "aC2jxxLwCKKe"
      },
      "source": [
        "xception.summary()"
      ],
      "execution_count": null,
      "outputs": []
    },
    {
      "cell_type": "code",
      "metadata": {
        "id": "IvrmVwD0uyIV"
      },
      "source": [
        "input = keras.Input(shape=(299,299,3))\n",
        "x = xception(input, training=False)\n",
        "x = GlobalAveragePooling2D()(x)\n",
        "output = Dense(units=10, activation='softmax')(x)"
      ],
      "execution_count": 22,
      "outputs": []
    },
    {
      "cell_type": "code",
      "metadata": {
        "id": "OOjelGgRvPdm"
      },
      "source": [
        "model = Model(inputs=input, outputs=output)"
      ],
      "execution_count": 23,
      "outputs": []
    },
    {
      "cell_type": "code",
      "metadata": {
        "id": "oXn_j0lowMRU"
      },
      "source": [
        "xception.trainable = False"
      ],
      "execution_count": 24,
      "outputs": []
    },
    {
      "cell_type": "code",
      "metadata": {
        "colab": {
          "base_uri": "https://localhost:8080/"
        },
        "id": "EaVL6vd1whwz",
        "outputId": "f53c2fc2-53d2-4ff3-e58e-5727a1e604ca"
      },
      "source": [
        "model.summary()"
      ],
      "execution_count": 25,
      "outputs": [
        {
          "output_type": "stream",
          "text": [
            "Model: \"model_3\"\n",
            "_________________________________________________________________\n",
            "Layer (type)                 Output Shape              Param #   \n",
            "=================================================================\n",
            "input_5 (InputLayer)         [(None, 299, 299, 3)]     0         \n",
            "_________________________________________________________________\n",
            "xception (Functional)        (None, None, None, 2048)  20861480  \n",
            "_________________________________________________________________\n",
            "global_average_pooling2d_3 ( (None, 2048)              0         \n",
            "_________________________________________________________________\n",
            "dense_4 (Dense)              (None, 10)                20490     \n",
            "=================================================================\n",
            "Total params: 20,881,970\n",
            "Trainable params: 20,490\n",
            "Non-trainable params: 20,861,480\n",
            "_________________________________________________________________\n"
          ],
          "name": "stdout"
        }
      ]
    },
    {
      "cell_type": "code",
      "metadata": {
        "id": "qbvOiGmSCMa1"
      },
      "source": [
        "model.compile(optimizer=Adam(learning_rate=0.0001), loss='categorical_crossentropy', metrics=['accuracy'])"
      ],
      "execution_count": 26,
      "outputs": []
    },
    {
      "cell_type": "code",
      "metadata": {
        "colab": {
          "base_uri": "https://localhost:8080/"
        },
        "id": "nMGZczDiC4rI",
        "outputId": "b41ef86c-1224-4df1-bba2-7cd41ef5c3b4"
      },
      "source": [
        "model.fit(x=train_batches, validation_data=valid_batches, epochs=10, verbose=2)"
      ],
      "execution_count": 27,
      "outputs": [
        {
          "output_type": "stream",
          "text": [
            "Epoch 1/10\n",
            "119/119 - 399s - loss: 2.1156 - accuracy: 0.3179 - val_loss: 1.8763 - val_accuracy: 0.7391\n",
            "Epoch 2/10\n",
            "119/119 - 387s - loss: 1.6704 - accuracy: 0.7779 - val_loss: 1.5049 - val_accuracy: 0.8696\n",
            "Epoch 3/10\n",
            "119/119 - 387s - loss: 1.3374 - accuracy: 0.8958 - val_loss: 1.2307 - val_accuracy: 0.8957\n",
            "Epoch 4/10\n",
            "119/119 - 387s - loss: 1.0896 - accuracy: 0.9316 - val_loss: 1.0267 - val_accuracy: 0.9174\n",
            "Epoch 5/10\n",
            "119/119 - 386s - loss: 0.9073 - accuracy: 0.9463 - val_loss: 0.8757 - val_accuracy: 0.9217\n",
            "Epoch 6/10\n",
            "119/119 - 389s - loss: 0.7700 - accuracy: 0.9568 - val_loss: 0.7611 - val_accuracy: 0.9261\n",
            "Epoch 7/10\n",
            "119/119 - 388s - loss: 0.6654 - accuracy: 0.9579 - val_loss: 0.6722 - val_accuracy: 0.9217\n",
            "Epoch 8/10\n",
            "119/119 - 383s - loss: 0.5837 - accuracy: 0.9621 - val_loss: 0.6031 - val_accuracy: 0.9217\n",
            "Epoch 9/10\n",
            "119/119 - 381s - loss: 0.5186 - accuracy: 0.9621 - val_loss: 0.5465 - val_accuracy: 0.9174\n",
            "Epoch 10/10\n",
            "119/119 - 381s - loss: 0.4670 - accuracy: 0.9621 - val_loss: 0.4988 - val_accuracy: 0.9174\n"
          ],
          "name": "stdout"
        },
        {
          "output_type": "execute_result",
          "data": {
            "text/plain": [
              "<keras.callbacks.History at 0x7f3a68885510>"
            ]
          },
          "metadata": {},
          "execution_count": 27
        }
      ]
    },
    {
      "cell_type": "code",
      "metadata": {
        "id": "0J5_3dGLDEhJ"
      },
      "source": [
        "test_imgs, test_labels = next(test_batches)\n",
        "plotImages(test_imgs)\n",
        "print(test_labels)"
      ],
      "execution_count": null,
      "outputs": []
    },
    {
      "cell_type": "code",
      "metadata": {
        "id": "4Uo3qFj17Z3Y"
      },
      "source": [
        "test_batches.classes"
      ],
      "execution_count": null,
      "outputs": []
    },
    {
      "cell_type": "code",
      "metadata": {
        "id": "mmSf01hs8jmW",
        "colab": {
          "base_uri": "https://localhost:8080/"
        },
        "outputId": "40284940-cef7-4c90-b5ef-6ec7e6069767"
      },
      "source": [
        "predictions = model.predict(x=test_batches, verbose=2)"
      ],
      "execution_count": 31,
      "outputs": [
        {
          "output_type": "stream",
          "text": [
            "7/7 - 17s\n"
          ],
          "name": "stdout"
        }
      ]
    },
    {
      "cell_type": "code",
      "metadata": {
        "id": "hM6eiZKm97pq"
      },
      "source": [
        "np.round(predictions)"
      ],
      "execution_count": null,
      "outputs": []
    },
    {
      "cell_type": "code",
      "metadata": {
        "id": "BfLtgBV5-DNh"
      },
      "source": [
        "cm = confusion_matrix(y_true=test_batches.classes, y_pred=np.argmax(predictions, axis=-1))"
      ],
      "execution_count": 33,
      "outputs": []
    },
    {
      "cell_type": "code",
      "metadata": {
        "id": "SsnIiT8wCFp3"
      },
      "source": [
        "def plot_confusion_matrix(cm, classes,\n",
        "                        normalize=False,\n",
        "                        title='Confusion matrix',\n",
        "                        cmap=plt.cm.Blues):\n",
        "    \"\"\"\n",
        "    This function prints and plots the confusion matrix.\n",
        "    Normalization can be applied by setting `normalize=True`.\n",
        "    \"\"\"\n",
        "    plt.figure(figsize=(10,10))\n",
        "    plt.imshow(cm, interpolation='nearest', cmap=cmap)\n",
        "    plt.title(title)\n",
        "    plt.colorbar()\n",
        "    tick_marks = np.arange(len(classes))\n",
        "    plt.xticks(tick_marks, classes, rotation=-72)\n",
        "    plt.yticks(tick_marks, classes)\n",
        "\n",
        "    if normalize:\n",
        "        cm = cm.astype('float') / cm.sum(axis=1)[:, np.newaxis]\n",
        "        print(\"Normalized confusion matrix\")\n",
        "    else:\n",
        "        print('Confusion matrix, without normalization')\n",
        "\n",
        "    print(cm)\n",
        "\n",
        "    thresh = cm.max() / 2.\n",
        "    for i, j in itertools.product(range(cm.shape[0]), range(cm.shape[1])):\n",
        "        plt.text(j, i, cm[i, j],\n",
        "            horizontalalignment=\"center\",\n",
        "            color=\"white\" if cm[i, j] > thresh else \"black\")\n",
        "\n",
        "    #plt.tight_layout()\n",
        "    plt.ylabel('True label')\n",
        "    plt.xlabel('Predicted label')"
      ],
      "execution_count": 34,
      "outputs": []
    },
    {
      "cell_type": "code",
      "metadata": {
        "id": "yImpWyXPJ-dW"
      },
      "source": [
        "print(test_batches.class_indices)\n",
        "print(classes)"
      ],
      "execution_count": null,
      "outputs": []
    },
    {
      "cell_type": "code",
      "metadata": {
        "id": "H3cU8TgFLBtq",
        "colab": {
          "base_uri": "https://localhost:8080/",
          "height": 884
        },
        "outputId": "5dc95289-16ef-4983-f70d-1069a303675c"
      },
      "source": [
        "cm_plot_labels = classes\n",
        "plot_confusion_matrix(cm=cm, classes=classes, normalize=True, title='Confusion Matrix')"
      ],
      "execution_count": 35,
      "outputs": [
        {
          "output_type": "stream",
          "text": [
            "Normalized confusion matrix\n",
            "[[1.  0.  0.  0.  0.  0.  0.  0.  0.  0. ]\n",
            " [0.  0.8 0.  0.  0.  0.  0.  0.2 0.  0. ]\n",
            " [0.  0.  1.  0.  0.  0.  0.  0.  0.  0. ]\n",
            " [0.  0.  0.  1.  0.  0.  0.  0.  0.  0. ]\n",
            " [0.  0.  0.  0.  1.  0.  0.  0.  0.  0. ]\n",
            " [0.  0.  0.  0.  0.  1.  0.  0.  0.  0. ]\n",
            " [0.  0.  0.  0.  0.  0.  1.  0.  0.  0. ]\n",
            " [0.  0.  0.  0.  0.  0.  0.  1.  0.  0. ]\n",
            " [0.  0.  0.  0.  0.  0.  0.  0.  1.  0. ]\n",
            " [0.2 0.  0.  0.  0.  0.  0.  0.  0.2 0.6]]\n"
          ],
          "name": "stdout"
        },
        {
          "output_type": "display_data",
          "data": {
            "image/png": "[encoded data removed]",
            "text/plain": [
              "<Figure size 720x720 with 2 Axes>"
            ]
          },
          "metadata": {
            "needs_background": "light"
          }
        }
      ]
    },
    {
      "cell_type": "code",
      "metadata": {
        "id": "luxbJg2eKCNF"
      },
      "source": [
        ""
      ],
      "execution_count": null,
      "outputs": []
    }
  ]
}